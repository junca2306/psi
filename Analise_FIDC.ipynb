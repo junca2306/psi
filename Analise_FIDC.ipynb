{
  "nbformat": 4,
  "nbformat_minor": 0,
  "metadata": {
    "colab": {
      "provenance": [],
      "authorship_tag": "ABX9TyMY0/bjZPBZp8nWLCH35tnj",
      "include_colab_link": true
    },
    "kernelspec": {
      "name": "python3",
      "display_name": "Python 3"
    },
    "language_info": {
      "name": "python"
    }
  },
  "cells": [
    {
      "cell_type": "markdown",
      "metadata": {
        "id": "view-in-github",
        "colab_type": "text"
      },
      "source": [
        "<a href=\"https://colab.research.google.com/github/junca2306/psi/blob/main/Analise_FIDC.ipynb\" target=\"_parent\"><img src=\"https://colab.research.google.com/assets/colab-badge.svg\" alt=\"Open In Colab\"/></a>"
      ]
    },
    {
      "cell_type": "code",
      "execution_count": null,
      "metadata": {
        "colab": {
          "base_uri": "https://localhost:8080/"
        },
        "collapsed": true,
        "id": "TxVg2oHN6RXe",
        "outputId": "b07d2556-5fc8-473d-c197-077cc752ea35"
      },
      "outputs": [
        {
          "output_type": "stream",
          "name": "stdout",
          "text": [
            "Collecting fpdf\n",
            "  Downloading fpdf-1.7.2.tar.gz (39 kB)\n",
            "  Preparing metadata (setup.py) ... \u001b[?25l\u001b[?25hdone\n",
            "Building wheels for collected packages: fpdf\n",
            "  Building wheel for fpdf (setup.py) ... \u001b[?25l\u001b[?25hdone\n",
            "  Created wheel for fpdf: filename=fpdf-1.7.2-py2.py3-none-any.whl size=40704 sha256=7cb5ff23d8001a883cada51b88fa4082009cc9ecbbb619d6ff0c1aed6f5d073f\n",
            "  Stored in directory: /root/.cache/pip/wheels/65/4f/66/bbda9866da446a72e206d6484cd97381cbc7859a7068541c36\n",
            "Successfully built fpdf\n",
            "Installing collected packages: fpdf\n",
            "Successfully installed fpdf-1.7.2\n"
          ]
        }
      ],
      "source": [
        "!pip install fpdf\n",
        "import pandas as pd\n",
        "import requests\n",
        "from fpdf import FPDF\n",
        "import matplotlib.pyplot as plt\n",
        "from datetime import datetime\n",
        "import zipfile\n",
        "import io\n",
        "import os"
      ]
    },
    {
      "cell_type": "code",
      "source": [],
      "metadata": {
        "id": "cZCS7_-b8-EB"
      },
      "execution_count": null,
      "outputs": []
    },
    {
      "cell_type": "code",
      "source": [
        "# ==============================================\n",
        "# 1. COLETA DE DADOS DA CVM (FIDCs Cadastrados)\n",
        "# ==============================================\n",
        "def get_cvm_data():\n",
        "\n",
        "    #url = \"https://dados.cvm.gov.br/dados/FIDC/DOC/INF_MENSAL/DADOS/\"\n",
        "    url = \"https://dados.cvm.gov.br/dados/FIDC/DOC/INF_MENSAL/DADOS/inf_mensal_fidc_202503.zip\"\n",
        "    #arquivo_zip = \"inf_mensal_fidc_202503.zip\"\n",
        "    #url_arquivo = url + arquivo_zip\n",
        "    destino_zip = \"dados_fidc.zip\"\n",
        "    pasta_destino = \"dados_fidc_extraidos\"\n",
        "    try:\n",
        "        response = requests.get(url)\n",
        "        #data = response.json()\n",
        "        data = pd.read_csv(url)\n",
        "        print(\"Dados da CVM carregados com sucesso.\")\n",
        "        return data\n",
        "    except Exception as e:\n",
        "        print(f\"Erro ao acessar site da CVM: {e}\")\n",
        "        return None"
      ],
      "metadata": {
        "id": "Xf8hXxDD6nCb"
      },
      "execution_count": null,
      "outputs": []
    },
    {
      "cell_type": "code",
      "source": [],
      "metadata": {
        "id": "HKcw-Pqc-Rz0"
      },
      "execution_count": null,
      "outputs": []
    },
    {
      "cell_type": "code",
      "source": [
        "# ==============================================\n",
        "# 2. CÁLCULOS DO FUNDO (Performance, INA5, etc.)\n",
        "# ==============================================\n",
        "def calculate_metrics(portfolio):\n",
        "\n",
        "    df = pd.DataFrame(portfolio)\n",
        "\n",
        "    # Performance média ponderada\n",
        "    df['Retorno Ponderado'] = df['Performance (12m)'] * df['Peso no Portfólio'] / 100\n",
        "    performance_total = df['Retorno Ponderado'].sum()\n",
        "\n",
        "    # Cálculo do INA5 (exemplo simplificado)\n",
        "    total_creditos_vigentes = 1_000_000  # Valor hipotético\n",
        "    total_inadimplentes_5meses = 32_000   # Valor hipotético\n",
        "    INA5 = (total_inadimplentes_5meses / total_creditos_vigentes) * 100\n",
        "\n",
        "    return {\n",
        "        \"Performance Total\": performance_total,\n",
        "        \"INA5\": INA5,\n",
        "        \"Patrimonio\": df['Peso no Portfólio'].sum() * 10_000_000  # Exemplo: 10 MM de PL\n",
        "    }"
      ],
      "metadata": {
        "id": "KDcCVnzxLgcc"
      },
      "execution_count": null,
      "outputs": []
    },
    {
      "cell_type": "code",
      "source": [
        "# ==============================================\n",
        "# 3. GERAR CARTA MENSAL (PDF)\n",
        "# ==============================================\n",
        "def generate_pdf_report(metrics, url):\n",
        "    pdf = FPDF()\n",
        "    pdf.add_page()\n",
        "    pdf.set_font(\"Arial\", size=12)\n",
        "\n",
        "    # Cabeçalho\n",
        "    pdf.cell(200, 10, txt=\"Carta Mensal - FIC FIDC [Nome do Fundo]\", ln=True, align='C')\n",
        "    pdf.cell(200, 10, txt=f\"Data: {datetime.now().strftime('%d/%m/%Y')}\", ln=True, align='C')\n",
        "\n",
        "    # Resumo Executivo\n",
        "    pdf.cell(200, 10, txt=\"1. Resumo Executivo\", ln=True, align='L')\n",
        "    pdf.multi_cell(0, 10, txt=f\"\"\"\n",
        "    - Performance do mês: {metrics['Performance Total']:.2f}%\n",
        "    - Patrimônio líquido: R$ {metrics['Patrimonio']:,.2f}\n",
        "    - Índice de Inadimplência (INA5): {metrics['INA5']:.2f}%\n",
        "    \"\"\")\n",
        "\n",
        "    # Portfólio (Tabela)\n",
        "    pdf.cell(200, 10, txt=\"2. Portfólio do Fundo\", ln=True, align='L')\n",
        "    cols = [\"FIDC\", \"Segmento\", \"Performance (12m)\", \"Peso no Portfólio\"]\n",
        "    for col in cols:\n",
        "        pdf.cell(40, 10, txt=col, border=1)\n",
        "    pdf.ln()\n",
        "    for _, row in url.iterrows():\n",
        "        pdf.cell(40, 10, txt=row['FIDC'], border=1)\n",
        "        pdf.cell(40, 10, txt=row['Segmento'], border=1)\n",
        "        pdf.cell(40, 10, txt=str(row['Performance (12m)']) + \"%\", border=1)\n",
        "        pdf.cell(40, 10, txt=str(row['Peso no Portfólio']) + \"%\", border=1)\n",
        "        pdf.ln()\n",
        "\n",
        "    # Rodapé\n",
        "    pdf.cell(100, 10, txt=\"Produzido por Juliana Neves Cassalho\", ln=True, align='C')\n",
        "\n",
        "\n",
        "    # Salvar PDF\n",
        "    pdf.output(\"Carta_Mensal_FIC_FIDC.pdf\")\n",
        "\n",
        "\n",
        "    pdf.close()\n",
        "\n",
        "    print(\"Carta mensal gerada: Carta_Mensal_FIC_FIDC.pdf\")\n",
        "    print(\"Produzido por Juliana Neves Cassalho - C136243\")\n"
      ],
      "metadata": {
        "id": "nFh9gCw06mwk"
      },
      "execution_count": null,
      "outputs": []
    },
    {
      "cell_type": "code",
      "source": [
        "# ==============================================\n",
        "# 4. GERAR PLANILHA (EXCEL)\n",
        "# ==============================================\n",
        "def generate_excel_report(metrics, portfolio):\n",
        "    with pd.ExcelWriter(\"Calculos_FIC_FIDC.xlsx\") as writer:\n",
        "        # Planilha 1: Métricas\n",
        "        df_metrics = pd.DataFrame({\n",
        "            \"Métrica\": [\"Performance Total\", \"INA5\", \"Patrimônio Líquido\"],\n",
        "            \"Valor\": [f\"{metrics['Performance Total']:.2f}%\",\n",
        "                      f\"{metrics['INA5']:.2f}%\",\n",
        "                      f\"R$ {metrics['Patrimonio']:,.2f}\"]\n",
        "        })\n",
        "        df_metrics.to_excel(writer, sheet_name=\"Métricas\", index=False)\n",
        "\n",
        "        # Planilha 2: Portfólio\n",
        "        portfolio.to_excel(writer, sheet_name=\"Portfólio\", index=False)\n",
        "\n",
        "        # Planilha 3: Cálculo do INA5\n",
        "        df_ina5 = pd.DataFrame({\n",
        "            \"Descrição\": [\"Total Créditos Vigentes\", \"Total Inadimplentes (5 meses)\", \"INA5\"],\n",
        "            \"Valor\": [1_000_000, 32_000, \"=B3/B2*100\"]\n",
        "        })\n",
        "        df_ina5.to_excel(writer, sheet_name=\"Cálculo INA5\", index=False)\n",
        "\n",
        "    print(\"Planilha gerada: Calculos_FIC_FIDC.xlsx\")"
      ],
      "metadata": {
        "id": "PUnURpFq6mlf"
      },
      "execution_count": null,
      "outputs": []
    },
    {
      "cell_type": "code",
      "source": [
        "# ==============================================\n",
        "# EXECUÇÃO PRINCIPAL\n",
        "# ==============================================\n",
        "if __name__ == \"__main__\":\n",
        "    # Dados do portfólio (exemplo)\n",
        "    portfolio_data = {\n",
        "        \"FIDC\": [\"FIDC Alpha\", \"FIDC Beta\", \"FIDC Gamma\", \"FIDC Delta\", \"FIDC Omega\"],\n",
        "        \"Segmento\": [\"Varejo\", \"Saúde\", \"Energia\", \"Agronegócio\", \"Logística\"],\n",
        "        \"Performance (12m)\": [12.5, 10.8, 14.2, 9.5, 11.0],\n",
        "        \"Peso no Portfólio\": [25, 20, 15, 25, 15]\n",
        "    }\n",
        "    df_portfolio = pd.DataFrame(portfolio_data)\n",
        "\n",
        "    # Coleta de dados da CVM (simulada)\n",
        "    cvm_data = get_cvm_data()  # Em produção, usar dados reais\n",
        "\n",
        "    # Cálculos\n",
        "    metrics = calculate_metrics(df_portfolio)\n",
        "\n",
        "    # Gerar relatórios\n",
        "    generate_pdf_report(metrics, df_portfolio)\n",
        "    generate_excel_report(metrics, df_portfolio)"
      ],
      "metadata": {
        "colab": {
          "base_uri": "https://localhost:8080/"
        },
        "id": "CQ5SSZP76mXJ",
        "outputId": "2da87b42-c6de-4dd6-ffbd-b02f54c6fae6"
      },
      "execution_count": null,
      "outputs": [
        {
          "output_type": "stream",
          "name": "stdout",
          "text": [
            "Erro ao acessar site da CVM: Multiple files found in ZIP file. Only one file per ZIP: ['inf_mensal_fidc_tab_III_202503.csv', 'inf_mensal_fidc_tab_II_202503.csv', 'inf_mensal_fidc_tab_IV_202503.csv', 'inf_mensal_fidc_tab_IX_202503.csv', 'inf_mensal_fidc_tab_I_202503.csv', 'inf_mensal_fidc_tab_VII_202503.csv', 'inf_mensal_fidc_tab_VI_202503.csv', 'inf_mensal_fidc_tab_V_202503.csv', 'inf_mensal_fidc_tab_X_1_1_202503.csv', 'inf_mensal_fidc_tab_X_1_202503.csv', 'inf_mensal_fidc_tab_X_202503.csv', 'inf_mensal_fidc_tab_X_2_202503.csv', 'inf_mensal_fidc_tab_X_3_202503.csv', 'inf_mensal_fidc_tab_X_4_202503.csv', 'inf_mensal_fidc_tab_X_5_202503.csv', 'inf_mensal_fidc_tab_X_6_202503.csv', 'inf_mensal_fidc_tab_X_7_202503.csv']\n",
            "Carta mensal gerada: Carta_Mensal_FIC_FIDC.pdf\n",
            "Produzido por Juliana Neves Cassalho - C136243\n",
            "Planilha gerada: Calculos_FIC_FIDC.xlsx\n"
          ]
        }
      ]
    }
  ]
}